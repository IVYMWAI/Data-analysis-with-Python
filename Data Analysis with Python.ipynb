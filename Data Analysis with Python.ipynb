{
 "cells": [
  {
   "cell_type": "code",
   "execution_count": null,
   "metadata": {},
   "outputs": [],
   "source": [
    "#importing data into jupyter notebook\n",
    "import pandas as pd\n",
    "import numpy as np\n",
    "data=pd.read_csv(\"Salary_Data_Based_country_and_race.csv\")\n",
    "data.head()"
   ]
  },
  {
   "cell_type": "code",
   "execution_count": null,
   "metadata": {},
   "outputs": [],
   "source": [
    "#SORTING THE DATA\n",
    "#Formatting the headings of the variables to snake case heading\n",
    "data.columns=data.columns.str.lower()\n"
   ]
  },
  {
   "cell_type": "code",
   "execution_count": 21,
   "metadata": {},
   "outputs": [],
   "source": [
    "#DATA CLEANING\n",
    "#checking for missing values\n",
    "data.isnull()\n",
    "#There are no missing values\n",
    "\n",
    "#FORMATTING WRONG DATA\n",
    "\n",
    "\n"
   ]
  },
  {
   "cell_type": "code",
   "execution_count": null,
   "metadata": {},
   "outputs": [],
   "source": [
    "from IPython.core.interactiveshell import InteractiveShell\n",
    "InteractiveShell.ast_node_interactivity = \"all\""
   ]
  },
  {
   "cell_type": "code",
   "execution_count": null,
   "metadata": {},
   "outputs": [],
   "source": [
    "#Filtering out the data to keep only rows with gender as male or female\n",
    "\n",
    "data=data[data[\"gender\"].isin([\"Male\",\"Female\"])]\n",
    "\n",
    "#mean salary earned by each gender\n",
    "gender_group = data.groupby('gender')\n",
    "mean_salary_by_gender = gender_group['salary'].mean()\n",
    "print(mean_salary_by_gender)"
   ]
  },
  {
   "cell_type": "code",
   "execution_count": 25,
   "metadata": {},
   "outputs": [
    {
     "name": "stdout",
     "output_type": "stream",
     "text": [
      "\n",
      "Minimum salary per education level:\n",
      "education_level\n",
      "Bachelor's Degree Degree Degree              350.0\n",
      "Bachelor's Degree Degree Degree Degree       500.0\n",
      "High School                                25000.0\n",
      "Master's Degree                            40000.0\n",
      "Master's Degree Degree                     32000.0\n",
      "PhD                                          579.0\n",
      "phD                                       120000.0\n",
      "Name: salary, dtype: float64\n",
      "\n",
      "Maximum salary per education level:\n",
      "education_level\n",
      "Bachelor's Degree Degree Degree           250000.0\n",
      "Bachelor's Degree Degree Degree Degree    250000.0\n",
      "High School                               166109.0\n",
      "Master's Degree                           200000.0\n",
      "Master's Degree Degree                    228000.0\n",
      "PhD                                       250000.0\n",
      "phD                                       120000.0\n",
      "Name: salary, dtype: float64\n"
     ]
    }
   ],
   "source": [
    "#Calculating the maximum and minimum salaries earned for each education level\n",
    "new_group= data.groupby(\"education_level\")\n",
    "min_salaries = new_group[\"salary\"].min()\n",
    "max_salaries = new_group[\"salary\"].max()\n",
    "\n",
    "print(\"\\nMinimum salary per education level:\")\n",
    "print(min_salaries)\n",
    "print(\"\\nMaximum salary per education level:\")\n",
    "print(max_salaries)\n",
    "\n",
    "\n"
   ]
  }
 ],
 "metadata": {
  "kernelspec": {
   "display_name": "Python 3",
   "language": "python",
   "name": "python3"
  },
  "language_info": {
   "codemirror_mode": {
    "name": "ipython",
    "version": 3
   },
   "file_extension": ".py",
   "mimetype": "text/x-python",
   "name": "python",
   "nbconvert_exporter": "python",
   "pygments_lexer": "ipython3",
   "version": "3.11.4"
  },
  "orig_nbformat": 4
 },
 "nbformat": 4,
 "nbformat_minor": 2
}
