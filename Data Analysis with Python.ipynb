{
 "cells": [
  {
   "cell_type": "code",
   "execution_count": 7,
   "metadata": {},
   "outputs": [
    {
     "name": "stdout",
     "output_type": "stream",
     "text": [
      "6704\n",
      "9\n"
     ]
    }
   ],
   "source": [
    "#importing data into jupyter notebook\n",
    "import pandas as pd\n",
    "import numpy as np\n",
    "import matplotlib.pyplot as plt\n",
    "import seaborn as sns\n",
    "data=pd.read_csv(\"Salary_Data_Based_country_and_race.csv\")\n",
    "data.head()\n",
    "\n",
    "#General information about the dataset\n",
    "number_of_rows=data.shape[0]\n",
    "number_of_columns=data.shape[1]\n",
    "print(number_of_rows)\n",
    "print(number_of_columns)"
   ]
  },
  {
   "cell_type": "code",
   "execution_count": 43,
   "metadata": {},
   "outputs": [],
   "source": [
    "#SORTING THE DATA\n",
    "#Formatting the headings of the variables to snake case heading\n",
    "data.columns=data.columns.str.lower()\n"
   ]
  },
  {
   "cell_type": "code",
   "execution_count": 44,
   "metadata": {},
   "outputs": [],
   "source": [
    "#DATA CLEANING\n",
    "#checking for missing values\n",
    "data.isnull()\n",
    "#There are no missing values\n",
    "\n",
    "#FORMATTING WRONG DATA\n",
    "data[\"education_level\"]=data[\"education_level\"].replace(\"Bachelor's\",\"Bachelor's Degree\")\n",
    "data[\"education_level\"]=data[\"education_level\"].replace(\"Master's\",\"Master's Degree\")\n",
    "data[\"education_level\"]=data[\"education_level\"].replace(\"phD\",\"PhD\")"
   ]
  },
  {
   "cell_type": "code",
   "execution_count": 45,
   "metadata": {},
   "outputs": [],
   "source": [
    "from IPython.core.interactiveshell import InteractiveShell\n",
    "InteractiveShell.ast_node_interactivity = \"all\""
   ]
  },
  {
   "cell_type": "code",
   "execution_count": 46,
   "metadata": {},
   "outputs": [
    {
     "name": "stdout",
     "output_type": "stream",
     "text": [
      "gender\n",
      "Female    107888.998672\n",
      "Male      121389.870915\n",
      "Name: salary, dtype: float64\n"
     ]
    }
   ],
   "source": [
    "#Filtering out the data to keep only rows with gender as male or female\n",
    "\n",
    "data=data[data[\"gender\"].isin([\"Male\",\"Female\"])]\n",
    "\n",
    "#mean salary earned by each gender\n",
    "gender_group = data.groupby('gender')\n",
    "mean_salary_by_gender = gender_group['salary'].mean()\n",
    "print(mean_salary_by_gender)"
   ]
  },
  {
   "cell_type": "code",
   "execution_count": 47,
   "metadata": {},
   "outputs": [
    {
     "name": "stdout",
     "output_type": "stream",
     "text": [
      "\n",
      "Minimum salary per education level:\n",
      "education_level\n",
      "Bachelor's Degree      350.0\n",
      "High School          25000.0\n",
      "Master's Degree      32000.0\n",
      "PhD                    579.0\n",
      "Name: salary, dtype: float64\n",
      "\n",
      "Maximum salary per education level:\n",
      "education_level\n",
      "Bachelor's Degree    250000.0\n",
      "High School          165919.0\n",
      "Master's Degree      228000.0\n",
      "PhD                  250000.0\n",
      "Name: salary, dtype: float64\n"
     ]
    }
   ],
   "source": [
    "#Calculating the maximum and minimum salaries earned for each education level\n",
    "new_group= data.groupby(\"education_level\")\n",
    "min_salaries = new_group[\"salary\"].min()\n",
    "max_salaries = new_group[\"salary\"].max()\n",
    "\n",
    "print(\"\\nMinimum salary per education level:\")\n",
    "print(min_salaries)\n",
    "print(\"\\nMaximum salary per education level:\")\n",
    "print(max_salaries)"
   ]
  },
  {
   "cell_type": "code",
   "execution_count": 5,
   "metadata": {},
   "outputs": [
    {
     "ename": "AttributeError",
     "evalue": "'list' object has no attribute 'mean'",
     "output_type": "error",
     "traceback": [
      "\u001b[1;31m---------------------------------------------------------------------------\u001b[0m",
      "\u001b[1;31mAttributeError\u001b[0m                            Traceback (most recent call last)",
      "Cell \u001b[1;32mIn[5], line 10\u001b[0m\n\u001b[0;32m      8\u001b[0m gender_group\u001b[39m=\u001b[39mdata[\u001b[39m\"\u001b[39m\u001b[39mrace\u001b[39m\u001b[39m\"\u001b[39m]\u001b[39m.\u001b[39mvalue_counts()\n\u001b[0;32m      9\u001b[0m salary_means\u001b[39m=\u001b[39mdata\u001b[39m.\u001b[39mgroupby(\u001b[39m\"\u001b[39m\u001b[39mrace\u001b[39m\u001b[39m\"\u001b[39m)\n\u001b[1;32m---> 10\u001b[0m [\u001b[39m\"\u001b[39;49m\u001b[39msalary\u001b[39;49m\u001b[39m\"\u001b[39;49m]\u001b[39m.\u001b[39;49mmean()\n\u001b[0;32m     12\u001b[0m plt\u001b[39m.\u001b[39mxlabel(\u001b[39m\"\u001b[39m\u001b[39mrace\u001b[39m\u001b[39m\"\u001b[39m)\n\u001b[0;32m     13\u001b[0m plt\u001b[39m.\u001b[39mylabel(\u001b[39m\"\u001b[39m\u001b[39msalary\u001b[39m\u001b[39m\"\u001b[39m)\n",
      "\u001b[1;31mAttributeError\u001b[0m: 'list' object has no attribute 'mean'"
     ]
    }
   ],
   "source": [
    "#DATA VISUALIZATION\n",
    "#Distribution of salary based on race using a bar chart\n",
    "\n"
   ]
  }
 ],
 "metadata": {
  "kernelspec": {
   "display_name": "Python 3",
   "language": "python",
   "name": "python3"
  },
  "language_info": {
   "codemirror_mode": {
    "name": "ipython",
    "version": 3
   },
   "file_extension": ".py",
   "mimetype": "text/x-python",
   "name": "python",
   "nbconvert_exporter": "python",
   "pygments_lexer": "ipython3",
   "version": "3.11.4"
  },
  "orig_nbformat": 4
 },
 "nbformat": 4,
 "nbformat_minor": 2
}
